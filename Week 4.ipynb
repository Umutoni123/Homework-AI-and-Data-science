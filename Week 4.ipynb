{
  "nbformat": 4,
  "nbformat_minor": 0,
  "metadata": {
    "colab": {
      "provenance": [],
      "authorship_tag": "ABX9TyM5c3piYuMdWTonI+4cqkWK",
      "include_colab_link": true
    },
    "kernelspec": {
      "name": "python3",
      "display_name": "Python 3"
    },
    "language_info": {
      "name": "python"
    }
  },
  "cells": [
    {
      "cell_type": "markdown",
      "metadata": {
        "id": "view-in-github",
        "colab_type": "text"
      },
      "source": [
        "<a href=\"https://colab.research.google.com/github/Umutoni123/Homework-AI-and-Data-science/blob/main/Week%204.ipynb\" target=\"_parent\"><img src=\"https://colab.research.google.com/assets/colab-badge.svg\" alt=\"Open In Colab\"/></a>"
      ]
    },
    {
      "cell_type": "markdown",
      "source": [
        "Recursion-Only oddCount(L)\n",
        "\n",
        "\n"
      ],
      "metadata": {
        "id": "vxFOCWNncBvi"
      }
    },
    {
      "cell_type": "code",
      "execution_count": 4,
      "metadata": {
        "colab": {
          "base_uri": "https://localhost:8080/"
        },
        "id": "FUbu2ZSlZnM9",
        "outputId": "8a3ae813-7c37-447a-a0c5-c1a678639bb5"
      },
      "outputs": [
        {
          "output_type": "stream",
          "name": "stdout",
          "text": [
            "3\n"
          ]
        }
      ],
      "source": [
        "def oddCount(L):\n",
        "  if(L == []):\n",
        "    return 0\n",
        "  else:\n",
        "    if(L[0] % 2 == 1):\n",
        "      return 1 + oddCount(L[1:])\n",
        "    else:\n",
        "      return oddCount(L[1:])\n",
        "print(oddCount([5,6,4,3,2,1]))"
      ]
    },
    {
      "cell_type": "markdown",
      "source": [
        "Recursion-Only oddSum(L)"
      ],
      "metadata": {
        "id": "1XBG_jU4c-WC"
      }
    },
    {
      "cell_type": "code",
      "source": [
        "def oddSum(L):\n",
        "  if(L == []):\n",
        "    return 0\n",
        "  else:\n",
        "    if(L[0] % 2 == 1):\n",
        "      return L[0] + oddSum(L[1:])\n",
        "    else:\n",
        "      return oddSum(L[1:])\n",
        "print(oddSum([5,6,4,3,2,1]))"
      ],
      "metadata": {
        "colab": {
          "base_uri": "https://localhost:8080/"
        },
        "id": "JUCJ4azBcAk_",
        "outputId": "d07ebf07-0e18-475f-830d-e2442f5c3498"
      },
      "execution_count": 8,
      "outputs": [
        {
          "output_type": "stream",
          "name": "stdout",
          "text": [
            "9\n"
          ]
        }
      ]
    },
    {
      "cell_type": "markdown",
      "source": [
        "Recursion-Only oddsOnly(L)"
      ],
      "metadata": {
        "id": "J8EgBnxhdUI0"
      }
    },
    {
      "cell_type": "code",
      "source": [
        "def oddsOnly(L):\n",
        "  if(L == []):\n",
        "    return []\n",
        "  else:\n",
        "    if(L[0]%2 == 1):\n",
        "      return [L[0]] + oddsOnly(L[1:])\n",
        "    else:\n",
        "      return oddsOnly(L[1:])\n",
        "print(oddsOnly([5,6,7,4,3,2,1]))"
      ],
      "metadata": {
        "colab": {
          "base_uri": "https://localhost:8080/"
        },
        "id": "Mpp9ODkddZ_L",
        "outputId": "16190f3b-3882-4378-aef2-157097ab243a"
      },
      "execution_count": 7,
      "outputs": [
        {
          "output_type": "stream",
          "name": "stdout",
          "text": [
            "[5, 7, 3, 1]\n"
          ]
        }
      ]
    },
    {
      "cell_type": "markdown",
      "source": [],
      "metadata": {
        "id": "dm6BE1H_dVio"
      }
    },
    {
      "cell_type": "markdown",
      "source": [
        "Recursion-Only maxOdd(L)"
      ],
      "metadata": {
        "id": "N7_ilrRzKgmk"
      }
    },
    {
      "cell_type": "code",
      "source": [
        "def maxOdd(L: list):\n",
        "  if(L == []):\n",
        "    return []\n",
        "  else:\n",
        "    result = maxOdd(L[1:])\n",
        "    if(L[0]%2 == 1):\n",
        "      if result == []:\n",
        "        return L[0]\n",
        "      else:\n",
        "        return max(L[0], result)\n",
        "    else:\n",
        "      return result\n",
        "print(maxOdd([5,6,7,4,3,2,1]))"
      ],
      "metadata": {
        "colab": {
          "base_uri": "https://localhost:8080/"
        },
        "id": "OcqyTjVrKlkO",
        "outputId": "77518947-0c69-4627-ab6d-882836c29b4e"
      },
      "execution_count": 24,
      "outputs": [
        {
          "output_type": "stream",
          "name": "stdout",
          "text": [
            "7\n"
          ]
        }
      ]
    },
    {
      "cell_type": "markdown",
      "source": [
        "# **PART TWO**"
      ],
      "metadata": {
        "id": "VnLQw9XJUSd5"
      }
    },
    {
      "cell_type": "markdown",
      "source": [
        "Recursion-Only hasConsecutiveDigits(n)"
      ],
      "metadata": {
        "id": "f7zp0f6uUcVF"
      }
    },
    {
      "cell_type": "code",
      "source": [
        "def hasConsecutiveDigits(n):\n",
        "  num = str(n)\n",
        "  if(len(num)<2):\n",
        "    return False\n",
        "  else:\n",
        "    if num[0] == num[1]:\n",
        "      return True\n",
        "    else:\n",
        "      return hasConsecutiveDigits(int(num[1:]))\n",
        "\n",
        "print(hasConsecutiveDigits(-142345))\n"
      ],
      "metadata": {
        "colab": {
          "base_uri": "https://localhost:8080/"
        },
        "id": "tdwVz_pBUfsy",
        "outputId": "f87f2fc6-d20a-4ea7-cba5-a25e42fb4933"
      },
      "execution_count": 32,
      "outputs": [
        {
          "output_type": "stream",
          "name": "stdout",
          "text": [
            "False\n"
          ]
        }
      ]
    },
    {
      "cell_type": "markdown",
      "source": [
        "Recursion-Only alternatingSum(L)"
      ],
      "metadata": {
        "id": "jIyvb9ejXKv-"
      }
    },
    {
      "cell_type": "code",
      "source": [
        "def alternatingSum(L: list):\n",
        "  if(L == []):\n",
        "    return 0\n",
        "  else:\n",
        "    return L[0] - alternatingSum(L[1:])\n",
        "print(alternatingSum([1,2,3,4]))"
      ],
      "metadata": {
        "colab": {
          "base_uri": "https://localhost:8080/"
        },
        "id": "vBsmeSpMXRO-",
        "outputId": "2fcf0d5b-e13b-4998-cc68-d6273bf63b3f"
      },
      "execution_count": 3,
      "outputs": [
        {
          "output_type": "stream",
          "name": "stdout",
          "text": [
            "-2\n"
          ]
        }
      ]
    },
    {
      "cell_type": "code",
      "source": [],
      "metadata": {
        "id": "qBgdLl86CD3J"
      },
      "execution_count": 5,
      "outputs": []
    }
  ]
}